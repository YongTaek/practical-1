{
 "cells": [
  {
   "cell_type": "markdown",
   "metadata": {},
   "source": [
    "## Practical 1: word2vec\n",
    "<p>Oxford CS - Deep NLP 2017<br>\n",
    "https://www.cs.ox.ac.uk/teaching/courses/2016-2017/dl/</p>\n",
    "<p>[Yannis Assael, Brendan Shillingford, Chris Dyer]</p>"
   ]
  },
  {
   "cell_type": "markdown",
   "metadata": {},
   "source": [
    "This practical is presented as an IPython Notebook, with the code written for recent versions of **Python 3**. The code in this practical will not work with Python 2 unless you modify it. If you are using your own Python installation, ensure you have a setup identical to that described in the installation shell script (which is intended for use with the department lab machines). We will be unable to support installation on personal machines due to time constraints, so please use the lab machines and the setup script if you are unfamiliar with how to install Anaconda.\n",
    "\n",
    "To execute a notebook cell, press `shift-enter`. The return value of the last command will be displayed, if it is not `None`.\n",
    "\n",
    "Potentially useful library documentation, references, and resources:\n",
    "\n",
    "* IPython notebooks: <https://ipython.org/ipython-doc/3/notebook/notebook.html#introduction>\n",
    "* Numpy numerical array library: <https://docs.scipy.org/doc/>\n",
    "* Gensim's word2vec: <https://radimrehurek.com/gensim/models/word2vec.html>\n",
    "* Bokeh interactive plots: <http://bokeh.pydata.org/en/latest/> (we provide plotting code here, but click the thumbnails for more examples to copy-paste)\n",
    "* scikit-learn ML library (aka `sklearn`): <http://scikit-learn.org/stable/documentation.html>\n",
    "* nltk NLP toolkit: <http://www.nltk.org/>\n",
    "* tutorial for processing xml in python using `lxml`: <http://lxml.de/tutorial.html> (we did this for you below, but in case you need it in the future)"
   ]
  },
  {
   "cell_type": "code",
   "execution_count": 1,
   "metadata": {
    "collapsed": true
   },
   "outputs": [],
   "source": [
    "import numpy as np\n",
    "import os\n",
    "from random import shuffle\n",
    "import re"
   ]
  },
  {
   "cell_type": "code",
   "execution_count": 2,
   "metadata": {},
   "outputs": [
    {
     "data": {
      "text/html": [
       "\n",
       "    <div class=\"bk-root\">\n",
       "        <a href=\"https://bokeh.pydata.org\" target=\"_blank\" class=\"bk-logo bk-logo-small bk-logo-notebook\"></a>\n",
       "        <span id=\"c4e0653e-d144-4de9-8f83-9dac66e2bf86\">Loading BokehJS ...</span>\n",
       "    </div>"
      ]
     },
     "metadata": {},
     "output_type": "display_data"
    },
    {
     "data": {
      "application/javascript": [
       "\n",
       "(function(root) {\n",
       "  function now() {\n",
       "    return new Date();\n",
       "  }\n",
       "\n",
       "  var force = true;\n",
       "\n",
       "  if (typeof (root._bokeh_onload_callbacks) === \"undefined\" || force === true) {\n",
       "    root._bokeh_onload_callbacks = [];\n",
       "    root._bokeh_is_loading = undefined;\n",
       "  }\n",
       "\n",
       "  var JS_MIME_TYPE = 'application/javascript';\n",
       "  var HTML_MIME_TYPE = 'text/html';\n",
       "  var EXEC_MIME_TYPE = 'application/vnd.bokehjs_exec.v0+json';\n",
       "  var CLASS_NAME = 'output_bokeh rendered_html';\n",
       "\n",
       "  /**\n",
       "   * Render data to the DOM node\n",
       "   */\n",
       "  function render(props, node) {\n",
       "    var script = document.createElement(\"script\");\n",
       "    node.appendChild(script);\n",
       "  }\n",
       "\n",
       "  /**\n",
       "   * Handle when an output is cleared or removed\n",
       "   */\n",
       "  function handleClearOutput(event, handle) {\n",
       "    var cell = handle.cell;\n",
       "\n",
       "    var id = cell.output_area._bokeh_element_id;\n",
       "    var server_id = cell.output_area._bokeh_server_id;\n",
       "    // Clean up Bokeh references\n",
       "    if (id !== undefined) {\n",
       "      Bokeh.index[id].model.document.clear();\n",
       "      delete Bokeh.index[id];\n",
       "    }\n",
       "\n",
       "    if (server_id !== undefined) {\n",
       "      // Clean up Bokeh references\n",
       "      var cmd = \"from bokeh.io.state import curstate; print(curstate().uuid_to_server['\" + server_id + \"'].get_sessions()[0].document.roots[0]._id)\";\n",
       "      cell.notebook.kernel.execute(cmd, {\n",
       "        iopub: {\n",
       "          output: function(msg) {\n",
       "            var element_id = msg.content.text.trim();\n",
       "            Bokeh.index[element_id].model.document.clear();\n",
       "            delete Bokeh.index[element_id];\n",
       "          }\n",
       "        }\n",
       "      });\n",
       "      // Destroy server and session\n",
       "      var cmd = \"import bokeh.io.notebook as ion; ion.destroy_server('\" + server_id + \"')\";\n",
       "      cell.notebook.kernel.execute(cmd);\n",
       "    }\n",
       "  }\n",
       "\n",
       "  /**\n",
       "   * Handle when a new output is added\n",
       "   */\n",
       "  function handleAddOutput(event, handle) {\n",
       "    var output_area = handle.output_area;\n",
       "    var output = handle.output;\n",
       "\n",
       "    // limit handleAddOutput to display_data with EXEC_MIME_TYPE content only\n",
       "    if ((output.output_type != \"display_data\") || (!output.data.hasOwnProperty(EXEC_MIME_TYPE))) {\n",
       "      return\n",
       "    }\n",
       "\n",
       "    var toinsert = output_area.element.find(`.${CLASS_NAME.split(' ')[0]}`);\n",
       "\n",
       "    if (output.metadata[EXEC_MIME_TYPE][\"id\"] !== undefined) {\n",
       "      toinsert[0].firstChild.textContent = output.data[JS_MIME_TYPE];\n",
       "      // store reference to embed id on output_area\n",
       "      output_area._bokeh_element_id = output.metadata[EXEC_MIME_TYPE][\"id\"];\n",
       "    }\n",
       "    if (output.metadata[EXEC_MIME_TYPE][\"server_id\"] !== undefined) {\n",
       "      var bk_div = document.createElement(\"div\");\n",
       "      bk_div.innerHTML = output.data[HTML_MIME_TYPE];\n",
       "      var script_attrs = bk_div.children[0].attributes;\n",
       "      for (var i = 0; i < script_attrs.length; i++) {\n",
       "        toinsert[0].firstChild.setAttribute(script_attrs[i].name, script_attrs[i].value);\n",
       "      }\n",
       "      // store reference to server id on output_area\n",
       "      output_area._bokeh_server_id = output.metadata[EXEC_MIME_TYPE][\"server_id\"];\n",
       "    }\n",
       "  }\n",
       "\n",
       "  function register_renderer(events, OutputArea) {\n",
       "\n",
       "    function append_mime(data, metadata, element) {\n",
       "      // create a DOM node to render to\n",
       "      var toinsert = this.create_output_subarea(\n",
       "        metadata,\n",
       "        CLASS_NAME,\n",
       "        EXEC_MIME_TYPE\n",
       "      );\n",
       "      this.keyboard_manager.register_events(toinsert);\n",
       "      // Render to node\n",
       "      var props = {data: data, metadata: metadata[EXEC_MIME_TYPE]};\n",
       "      render(props, toinsert[0]);\n",
       "      element.append(toinsert);\n",
       "      return toinsert\n",
       "    }\n",
       "\n",
       "    /* Handle when an output is cleared or removed */\n",
       "    events.on('clear_output.CodeCell', handleClearOutput);\n",
       "    events.on('delete.Cell', handleClearOutput);\n",
       "\n",
       "    /* Handle when a new output is added */\n",
       "    events.on('output_added.OutputArea', handleAddOutput);\n",
       "\n",
       "    /**\n",
       "     * Register the mime type and append_mime function with output_area\n",
       "     */\n",
       "    OutputArea.prototype.register_mime_type(EXEC_MIME_TYPE, append_mime, {\n",
       "      /* Is output safe? */\n",
       "      safe: true,\n",
       "      /* Index of renderer in `output_area.display_order` */\n",
       "      index: 0\n",
       "    });\n",
       "  }\n",
       "\n",
       "  // register the mime type if in Jupyter Notebook environment and previously unregistered\n",
       "  if (root.Jupyter !== undefined) {\n",
       "    var events = require('base/js/events');\n",
       "    var OutputArea = require('notebook/js/outputarea').OutputArea;\n",
       "\n",
       "    if (OutputArea.prototype.mime_types().indexOf(EXEC_MIME_TYPE) == -1) {\n",
       "      register_renderer(events, OutputArea);\n",
       "    }\n",
       "  }\n",
       "\n",
       "  \n",
       "  if (typeof (root._bokeh_timeout) === \"undefined\" || force === true) {\n",
       "    root._bokeh_timeout = Date.now() + 5000;\n",
       "    root._bokeh_failed_load = false;\n",
       "  }\n",
       "\n",
       "  var NB_LOAD_WARNING = {'data': {'text/html':\n",
       "     \"<div style='background-color: #fdd'>\\n\"+\n",
       "     \"<p>\\n\"+\n",
       "     \"BokehJS does not appear to have successfully loaded. If loading BokehJS from CDN, this \\n\"+\n",
       "     \"may be due to a slow or bad network connection. Possible fixes:\\n\"+\n",
       "     \"</p>\\n\"+\n",
       "     \"<ul>\\n\"+\n",
       "     \"<li>re-rerun `output_notebook()` to attempt to load from CDN again, or</li>\\n\"+\n",
       "     \"<li>use INLINE resources instead, as so:</li>\\n\"+\n",
       "     \"</ul>\\n\"+\n",
       "     \"<code>\\n\"+\n",
       "     \"from bokeh.resources import INLINE\\n\"+\n",
       "     \"output_notebook(resources=INLINE)\\n\"+\n",
       "     \"</code>\\n\"+\n",
       "     \"</div>\"}};\n",
       "\n",
       "  function display_loaded() {\n",
       "    var el = document.getElementById(\"c4e0653e-d144-4de9-8f83-9dac66e2bf86\");\n",
       "    if (el != null) {\n",
       "      el.textContent = \"BokehJS is loading...\";\n",
       "    }\n",
       "    if (root.Bokeh !== undefined) {\n",
       "      if (el != null) {\n",
       "        el.textContent = \"BokehJS \" + root.Bokeh.version + \" successfully loaded.\";\n",
       "      }\n",
       "    } else if (Date.now() < root._bokeh_timeout) {\n",
       "      setTimeout(display_loaded, 100)\n",
       "    }\n",
       "  }\n",
       "\n",
       "\n",
       "  function run_callbacks() {\n",
       "    try {\n",
       "      root._bokeh_onload_callbacks.forEach(function(callback) { callback() });\n",
       "    }\n",
       "    finally {\n",
       "      delete root._bokeh_onload_callbacks\n",
       "    }\n",
       "    console.info(\"Bokeh: all callbacks have finished\");\n",
       "  }\n",
       "\n",
       "  function load_libs(js_urls, callback) {\n",
       "    root._bokeh_onload_callbacks.push(callback);\n",
       "    if (root._bokeh_is_loading > 0) {\n",
       "      console.log(\"Bokeh: BokehJS is being loaded, scheduling callback at\", now());\n",
       "      return null;\n",
       "    }\n",
       "    if (js_urls == null || js_urls.length === 0) {\n",
       "      run_callbacks();\n",
       "      return null;\n",
       "    }\n",
       "    console.log(\"Bokeh: BokehJS not loaded, scheduling load and callback at\", now());\n",
       "    root._bokeh_is_loading = js_urls.length;\n",
       "    for (var i = 0; i < js_urls.length; i++) {\n",
       "      var url = js_urls[i];\n",
       "      var s = document.createElement('script');\n",
       "      s.src = url;\n",
       "      s.async = false;\n",
       "      s.onreadystatechange = s.onload = function() {\n",
       "        root._bokeh_is_loading--;\n",
       "        if (root._bokeh_is_loading === 0) {\n",
       "          console.log(\"Bokeh: all BokehJS libraries loaded\");\n",
       "          run_callbacks()\n",
       "        }\n",
       "      };\n",
       "      s.onerror = function() {\n",
       "        console.warn(\"failed to load library \" + url);\n",
       "      };\n",
       "      console.log(\"Bokeh: injecting script tag for BokehJS library: \", url);\n",
       "      document.getElementsByTagName(\"head\")[0].appendChild(s);\n",
       "    }\n",
       "  };var element = document.getElementById(\"c4e0653e-d144-4de9-8f83-9dac66e2bf86\");\n",
       "  if (element == null) {\n",
       "    console.log(\"Bokeh: ERROR: autoload.js configured with elementid 'c4e0653e-d144-4de9-8f83-9dac66e2bf86' but no matching script tag was found. \")\n",
       "    return false;\n",
       "  }\n",
       "\n",
       "  var js_urls = [\"https://cdn.pydata.org/bokeh/release/bokeh-0.12.10.min.js\", \"https://cdn.pydata.org/bokeh/release/bokeh-widgets-0.12.10.min.js\", \"https://cdn.pydata.org/bokeh/release/bokeh-tables-0.12.10.min.js\", \"https://cdn.pydata.org/bokeh/release/bokeh-gl-0.12.10.min.js\"];\n",
       "\n",
       "  var inline_js = [\n",
       "    function(Bokeh) {\n",
       "      Bokeh.set_log_level(\"info\");\n",
       "    },\n",
       "    \n",
       "    function(Bokeh) {\n",
       "      \n",
       "    },\n",
       "    function(Bokeh) {\n",
       "      console.log(\"Bokeh: injecting CSS: https://cdn.pydata.org/bokeh/release/bokeh-0.12.10.min.css\");\n",
       "      Bokeh.embed.inject_css(\"https://cdn.pydata.org/bokeh/release/bokeh-0.12.10.min.css\");\n",
       "      console.log(\"Bokeh: injecting CSS: https://cdn.pydata.org/bokeh/release/bokeh-widgets-0.12.10.min.css\");\n",
       "      Bokeh.embed.inject_css(\"https://cdn.pydata.org/bokeh/release/bokeh-widgets-0.12.10.min.css\");\n",
       "      console.log(\"Bokeh: injecting CSS: https://cdn.pydata.org/bokeh/release/bokeh-tables-0.12.10.min.css\");\n",
       "      Bokeh.embed.inject_css(\"https://cdn.pydata.org/bokeh/release/bokeh-tables-0.12.10.min.css\");\n",
       "    }\n",
       "  ];\n",
       "\n",
       "  function run_inline_js() {\n",
       "    \n",
       "    if ((root.Bokeh !== undefined) || (force === true)) {\n",
       "      for (var i = 0; i < inline_js.length; i++) {\n",
       "        inline_js[i].call(root, root.Bokeh);\n",
       "      }if (force === true) {\n",
       "        display_loaded();\n",
       "      }} else if (Date.now() < root._bokeh_timeout) {\n",
       "      setTimeout(run_inline_js, 100);\n",
       "    } else if (!root._bokeh_failed_load) {\n",
       "      console.log(\"Bokeh: BokehJS failed to load within specified timeout.\");\n",
       "      root._bokeh_failed_load = true;\n",
       "    } else if (force !== true) {\n",
       "      var cell = $(document.getElementById(\"c4e0653e-d144-4de9-8f83-9dac66e2bf86\")).parents('.cell').data().cell;\n",
       "      cell.output_area.append_execute_result(NB_LOAD_WARNING)\n",
       "    }\n",
       "\n",
       "  }\n",
       "\n",
       "  if (root._bokeh_is_loading === 0) {\n",
       "    console.log(\"Bokeh: BokehJS loaded, going straight to plotting\");\n",
       "    run_inline_js();\n",
       "  } else {\n",
       "    load_libs(js_urls, function() {\n",
       "      console.log(\"Bokeh: BokehJS plotting callback run at\", now());\n",
       "      run_inline_js();\n",
       "    });\n",
       "  }\n",
       "}(window));"
      ],
      "application/vnd.bokehjs_load.v0+json": "\n(function(root) {\n  function now() {\n    return new Date();\n  }\n\n  var force = true;\n\n  if (typeof (root._bokeh_onload_callbacks) === \"undefined\" || force === true) {\n    root._bokeh_onload_callbacks = [];\n    root._bokeh_is_loading = undefined;\n  }\n\n  \n\n  \n  if (typeof (root._bokeh_timeout) === \"undefined\" || force === true) {\n    root._bokeh_timeout = Date.now() + 5000;\n    root._bokeh_failed_load = false;\n  }\n\n  var NB_LOAD_WARNING = {'data': {'text/html':\n     \"<div style='background-color: #fdd'>\\n\"+\n     \"<p>\\n\"+\n     \"BokehJS does not appear to have successfully loaded. If loading BokehJS from CDN, this \\n\"+\n     \"may be due to a slow or bad network connection. Possible fixes:\\n\"+\n     \"</p>\\n\"+\n     \"<ul>\\n\"+\n     \"<li>re-rerun `output_notebook()` to attempt to load from CDN again, or</li>\\n\"+\n     \"<li>use INLINE resources instead, as so:</li>\\n\"+\n     \"</ul>\\n\"+\n     \"<code>\\n\"+\n     \"from bokeh.resources import INLINE\\n\"+\n     \"output_notebook(resources=INLINE)\\n\"+\n     \"</code>\\n\"+\n     \"</div>\"}};\n\n  function display_loaded() {\n    var el = document.getElementById(\"c4e0653e-d144-4de9-8f83-9dac66e2bf86\");\n    if (el != null) {\n      el.textContent = \"BokehJS is loading...\";\n    }\n    if (root.Bokeh !== undefined) {\n      if (el != null) {\n        el.textContent = \"BokehJS \" + root.Bokeh.version + \" successfully loaded.\";\n      }\n    } else if (Date.now() < root._bokeh_timeout) {\n      setTimeout(display_loaded, 100)\n    }\n  }\n\n\n  function run_callbacks() {\n    try {\n      root._bokeh_onload_callbacks.forEach(function(callback) { callback() });\n    }\n    finally {\n      delete root._bokeh_onload_callbacks\n    }\n    console.info(\"Bokeh: all callbacks have finished\");\n  }\n\n  function load_libs(js_urls, callback) {\n    root._bokeh_onload_callbacks.push(callback);\n    if (root._bokeh_is_loading > 0) {\n      console.log(\"Bokeh: BokehJS is being loaded, scheduling callback at\", now());\n      return null;\n    }\n    if (js_urls == null || js_urls.length === 0) {\n      run_callbacks();\n      return null;\n    }\n    console.log(\"Bokeh: BokehJS not loaded, scheduling load and callback at\", now());\n    root._bokeh_is_loading = js_urls.length;\n    for (var i = 0; i < js_urls.length; i++) {\n      var url = js_urls[i];\n      var s = document.createElement('script');\n      s.src = url;\n      s.async = false;\n      s.onreadystatechange = s.onload = function() {\n        root._bokeh_is_loading--;\n        if (root._bokeh_is_loading === 0) {\n          console.log(\"Bokeh: all BokehJS libraries loaded\");\n          run_callbacks()\n        }\n      };\n      s.onerror = function() {\n        console.warn(\"failed to load library \" + url);\n      };\n      console.log(\"Bokeh: injecting script tag for BokehJS library: \", url);\n      document.getElementsByTagName(\"head\")[0].appendChild(s);\n    }\n  };var element = document.getElementById(\"c4e0653e-d144-4de9-8f83-9dac66e2bf86\");\n  if (element == null) {\n    console.log(\"Bokeh: ERROR: autoload.js configured with elementid 'c4e0653e-d144-4de9-8f83-9dac66e2bf86' but no matching script tag was found. \")\n    return false;\n  }\n\n  var js_urls = [\"https://cdn.pydata.org/bokeh/release/bokeh-0.12.10.min.js\", \"https://cdn.pydata.org/bokeh/release/bokeh-widgets-0.12.10.min.js\", \"https://cdn.pydata.org/bokeh/release/bokeh-tables-0.12.10.min.js\", \"https://cdn.pydata.org/bokeh/release/bokeh-gl-0.12.10.min.js\"];\n\n  var inline_js = [\n    function(Bokeh) {\n      Bokeh.set_log_level(\"info\");\n    },\n    \n    function(Bokeh) {\n      \n    },\n    function(Bokeh) {\n      console.log(\"Bokeh: injecting CSS: https://cdn.pydata.org/bokeh/release/bokeh-0.12.10.min.css\");\n      Bokeh.embed.inject_css(\"https://cdn.pydata.org/bokeh/release/bokeh-0.12.10.min.css\");\n      console.log(\"Bokeh: injecting CSS: https://cdn.pydata.org/bokeh/release/bokeh-widgets-0.12.10.min.css\");\n      Bokeh.embed.inject_css(\"https://cdn.pydata.org/bokeh/release/bokeh-widgets-0.12.10.min.css\");\n      console.log(\"Bokeh: injecting CSS: https://cdn.pydata.org/bokeh/release/bokeh-tables-0.12.10.min.css\");\n      Bokeh.embed.inject_css(\"https://cdn.pydata.org/bokeh/release/bokeh-tables-0.12.10.min.css\");\n    }\n  ];\n\n  function run_inline_js() {\n    \n    if ((root.Bokeh !== undefined) || (force === true)) {\n      for (var i = 0; i < inline_js.length; i++) {\n        inline_js[i].call(root, root.Bokeh);\n      }if (force === true) {\n        display_loaded();\n      }} else if (Date.now() < root._bokeh_timeout) {\n      setTimeout(run_inline_js, 100);\n    } else if (!root._bokeh_failed_load) {\n      console.log(\"Bokeh: BokehJS failed to load within specified timeout.\");\n      root._bokeh_failed_load = true;\n    } else if (force !== true) {\n      var cell = $(document.getElementById(\"c4e0653e-d144-4de9-8f83-9dac66e2bf86\")).parents('.cell').data().cell;\n      cell.output_area.append_execute_result(NB_LOAD_WARNING)\n    }\n\n  }\n\n  if (root._bokeh_is_loading === 0) {\n    console.log(\"Bokeh: BokehJS loaded, going straight to plotting\");\n    run_inline_js();\n  } else {\n    load_libs(js_urls, function() {\n      console.log(\"Bokeh: BokehJS plotting callback run at\", now());\n      run_inline_js();\n    });\n  }\n}(window));"
     },
     "metadata": {},
     "output_type": "display_data"
    }
   ],
   "source": [
    "from bokeh.models import ColumnDataSource, LabelSet\n",
    "from bokeh.plotting import figure, show, output_file\n",
    "from bokeh.io import output_notebook\n",
    "output_notebook()"
   ]
  },
  {
   "cell_type": "markdown",
   "metadata": {},
   "source": [
    "### Part 0: Download the TED dataset"
   ]
  },
  {
   "cell_type": "code",
   "execution_count": 3,
   "metadata": {
    "collapsed": true
   },
   "outputs": [],
   "source": [
    "import urllib.request\n",
    "import zipfile\n",
    "import lxml.etree"
   ]
  },
  {
   "cell_type": "code",
   "execution_count": 4,
   "metadata": {
    "collapsed": true
   },
   "outputs": [],
   "source": [
    "# Download the dataset if it's not already there: this may take a minute as it is 75MB\n",
    "if not os.path.isfile('ted_en-20160408.zip'):\n",
    "    urllib.request.urlretrieve(\"https://wit3.fbk.eu/get.php?path=XML_releases/xml/ted_en-20160408.zip&filename=ted_en-20160408.zip\", filename=\"ted_en-20160408.zip\")"
   ]
  },
  {
   "cell_type": "code",
   "execution_count": 5,
   "metadata": {
    "collapsed": true
   },
   "outputs": [],
   "source": [
    "# For now, we're only interested in the subtitle text, so let's extract that from the XML:\n",
    "with zipfile.ZipFile('ted_en-20160408.zip', 'r') as z:\n",
    "    doc = lxml.etree.parse(z.open('ted_en-20160408.xml', 'r'))\n",
    "input_text = '\\n'.join(doc.xpath('//content/text()'))\n",
    "del doc"
   ]
  },
  {
   "cell_type": "markdown",
   "metadata": {},
   "source": [
    "### Part 1: Preprocessing\n",
    "\n",
    "In this part, we attempt to clean up the raw subtitles a bit, so that we get only sentences. The following substring shows examples of what we're trying to get rid of. Since it's hard to define precisely what we want to get rid of, we'll just use some simple heuristics."
   ]
  },
  {
   "cell_type": "code",
   "execution_count": 6,
   "metadata": {
    "scrolled": false
   },
   "outputs": [
    {
     "data": {
      "text/plain": [
       "' baby does.\\n(Video) Hyowon Gweon: See this? (Ball squeaks) Did you see that? (Ball squeaks) Cool. See this one? (Ball squeaks) Wow.\\nLaura Schulz: Told you. (Laughs)\\n(Vide'"
      ]
     },
     "execution_count": 6,
     "metadata": {},
     "output_type": "execute_result"
    }
   ],
   "source": [
    "i = input_text.find(\"Hyowon Gweon: See this?\")\n",
    "input_text[i-20:i+150]"
   ]
  },
  {
   "cell_type": "markdown",
   "metadata": {},
   "source": [
    "Let's start by removing all parenthesized strings using a regex:"
   ]
  },
  {
   "cell_type": "code",
   "execution_count": 7,
   "metadata": {
    "collapsed": true
   },
   "outputs": [],
   "source": [
    "input_text_noparens = re.sub(r'\\([^)]*\\)', '', input_text)"
   ]
  },
  {
   "cell_type": "markdown",
   "metadata": {},
   "source": [
    "We can verify the same location in the text is now clean as follows. We won't worry about the irregular spaces since we'll later split the text into sentences and tokenize it anyway."
   ]
  },
  {
   "cell_type": "code",
   "execution_count": 8,
   "metadata": {},
   "outputs": [
    {
     "data": {
      "text/plain": [
       "\"hat the baby does.\\n Hyowon Gweon: See this?  Did you see that?  Cool. See this one?  Wow.\\nLaura Schulz: Told you. \\n HG: See this one?  Hey Clara, this one's for you. You \""
      ]
     },
     "execution_count": 8,
     "metadata": {},
     "output_type": "execute_result"
    }
   ],
   "source": [
    "i = input_text_noparens.find(\"Hyowon Gweon: See this?\")\n",
    "input_text_noparens[i-20:i+150]"
   ]
  },
  {
   "cell_type": "markdown",
   "metadata": {},
   "source": [
    "Now, let's attempt to remove speakers' names that occur at the beginning of a line, by deleting pieces of the form \"`<up to 20 characters>:`\", as shown in this example. Of course, this is an imperfect heuristic. "
   ]
  },
  {
   "cell_type": "code",
   "execution_count": 9,
   "metadata": {},
   "outputs": [
    {
     "data": {
      "text/plain": [
       "[\"Here are two reasons companies fail: they only do more of the same, or they only do what's new\",\n",
       " 'To me the real, real solution to quality growth is figuring out the balance between two activities: exploration and exploitation',\n",
       " ' Both are necessary, but it can be too much of a good thing',\n",
       " 'Consider Facit',\n",
       " \" I'm actually old enough to remember them\"]"
      ]
     },
     "execution_count": 9,
     "metadata": {},
     "output_type": "execute_result"
    }
   ],
   "source": [
    "sentences_strings_ted = []\n",
    "for line in input_text_noparens.split('\\n'):\n",
    "    m = re.match(r'^(?:(?P<precolon>[^:]{,20}):)?(?P<postcolon>.*)$', line)\n",
    "    sentences_strings_ted.extend(sent for sent in m.groupdict()['postcolon'].split('.') if sent)\n",
    "\n",
    "# Uncomment if you need to save some RAM: these strings are about 50MB.\n",
    "# del input_text, input_text_noparens\n",
    "\n",
    "# Let's view the first few:\n",
    "sentences_strings_ted[:5]"
   ]
  },
  {
   "cell_type": "markdown",
   "metadata": {},
   "source": [
    "Now that we have sentences, we're ready to tokenize each of them into words. This tokenization is imperfect, of course. For instance, how many tokens is \"can't\", and where/how do we split it? We'll take the simplest naive approach of splitting on spaces. Before splitting, we remove non-alphanumeric characters, such as punctuation. You may want to consider the following question: why do we replace these characters with spaces rather than deleting them? Think of a case where this yields a different answer."
   ]
  },
  {
   "cell_type": "code",
   "execution_count": 10,
   "metadata": {
    "collapsed": true
   },
   "outputs": [],
   "source": [
    "sentences_ted = []\n",
    "for sent_str in sentences_strings_ted:\n",
    "    tokens = re.sub(r\"[^a-z0-9]+\", \" \", sent_str.lower()).split()\n",
    "    sentences_ted.append(tokens)"
   ]
  },
  {
   "cell_type": "markdown",
   "metadata": {},
   "source": [
    "Two sample processed sentences:"
   ]
  },
  {
   "cell_type": "code",
   "execution_count": 11,
   "metadata": {},
   "outputs": [
    {
     "data": {
      "text/plain": [
       "266694"
      ]
     },
     "execution_count": 11,
     "metadata": {},
     "output_type": "execute_result"
    }
   ],
   "source": [
    "len(sentences_ted)"
   ]
  },
  {
   "cell_type": "code",
   "execution_count": 12,
   "metadata": {},
   "outputs": [
    {
     "name": "stdout",
     "output_type": "stream",
     "text": [
      "['here', 'are', 'two', 'reasons', 'companies', 'fail', 'they', 'only', 'do', 'more', 'of', 'the', 'same', 'or', 'they', 'only', 'do', 'what', 's', 'new']\n",
      "['to', 'me', 'the', 'real', 'real', 'solution', 'to', 'quality', 'growth', 'is', 'figuring', 'out', 'the', 'balance', 'between', 'two', 'activities', 'exploration', 'and', 'exploitation']\n"
     ]
    }
   ],
   "source": [
    "print(sentences_ted[0])\n",
    "print(sentences_ted[1])"
   ]
  },
  {
   "cell_type": "markdown",
   "metadata": {},
   "source": [
    "### Part 2: Word Frequencies"
   ]
  },
  {
   "cell_type": "markdown",
   "metadata": {},
   "source": [
    "If you store the counts of the top 1000 words in a list called `counts_ted_top1000`, the code below will plot the histogram requested in the writeup."
   ]
  },
  {
   "cell_type": "code",
   "execution_count": 28,
   "metadata": {},
   "outputs": [
    {
     "name": "stdout",
     "output_type": "stream",
     "text": [
      "[207748, 149305, 125169, 114818, 105399, 95146, 83180, 78070, 74738, 70923, 67629, 63251, 57156, 49241, 37014, 33102, 30806, 29713, 27995, 27344, 26732, 26519, 25962, 24706, 23377, 22757, 21246, 21041, 20201, 19488, 19216, 19021, 18626, 17928, 17908, 17551, 17012, 16723, 16273, 15868, 15452, 14387, 14061, 13986, 13917, 13896, 13882, 13864, 13278, 12879, 12363, 12302, 12163, 11935, 11595, 11576, 11506, 11445, 11366, 10902, 10900, 10463, 10446, 10180, 10179, 10091, 10029, 10021, 9911, 9872, 9675, 9376, 9312, 9239, 9160, 8906, 8841, 8823, 8629, 8262, 8256, 8011, 7858, 7735, 7724, 7617, 7537, 7536, 7281, 7227, 7183, 7168, 7141, 7119, 6937, 6806, 6521, 6424, 6358, 6307, 6292, 6229, 6207, 5972, 5907, 5695, 5684, 5571, 5552, 5501, 5456, 5379, 5374, 5312, 5275, 5220, 5197, 5175, 5153, 5133, 4935, 4929, 4919, 4660, 4546, 4544, 4511, 4485, 4454, 4399, 4299, 4143, 4132, 4130, 4120, 4079, 4034, 3971, 3968, 3799, 3798, 3791, 3787, 3786, 3707, 3611, 3494, 3449, 3364, 3346, 3301, 3245, 3217, 3201, 3188, 3171, 3080, 3032, 3031, 2999, 2983, 2916, 2914, 2899, 2873, 2869, 2861, 2856, 2846, 2779, 2778, 2775, 2757, 2745, 2726, 2701, 2674, 2644, 2636, 2616, 2616, 2613, 2601, 2586, 2579, 2563, 2561, 2532, 2514, 2513, 2505, 2495, 2478, 2460, 2457, 2455, 2451, 2412, 2374, 2342, 2340, 2332, 2327, 2306, 2291, 2268, 2265, 2245, 2244, 2240, 2225, 2197, 2195, 2194, 2192, 2162, 2158, 2154, 2144, 2117, 2107, 2080, 2076, 2073, 2065, 2045, 2045, 2033, 2016, 2015, 2002, 2001, 2001, 1979, 1977, 1961, 1950, 1941, 1941, 1934, 1930, 1929, 1924, 1920, 1893, 1877, 1841, 1840, 1834, 1833, 1781, 1772, 1765, 1765, 1762, 1755, 1748, 1744, 1740, 1729, 1720, 1716, 1708, 1681, 1678, 1654, 1652, 1650, 1637, 1636, 1635, 1625, 1618, 1615, 1600, 1590, 1585, 1584, 1582, 1576, 1576, 1575, 1575, 1550, 1548, 1544, 1537, 1527, 1522, 1519, 1510, 1510, 1492, 1482, 1482, 1479, 1478, 1469, 1466, 1466, 1463, 1444, 1433, 1423, 1423, 1420, 1419, 1417, 1409, 1400, 1400, 1393, 1390, 1390, 1389, 1387, 1386, 1382, 1379, 1374, 1374, 1373, 1357, 1357, 1353, 1352, 1351, 1349, 1348, 1346, 1341, 1334, 1334, 1329, 1326, 1321, 1309, 1309, 1308, 1302, 1300, 1296, 1293, 1291, 1285, 1284, 1284, 1282, 1277, 1270, 1269, 1268, 1267, 1267, 1265, 1264, 1257, 1254, 1249, 1246, 1238, 1238, 1238, 1235, 1234, 1214, 1211, 1201, 1198, 1198, 1197, 1191, 1190, 1189, 1189, 1188, 1188, 1185, 1179, 1176, 1176, 1172, 1170, 1170, 1166, 1162, 1162, 1161, 1161, 1154, 1151, 1151, 1149, 1147, 1146, 1144, 1140, 1133, 1132, 1131, 1121, 1119, 1119, 1119, 1112, 1109, 1108, 1107, 1102, 1100, 1096, 1093, 1092, 1089, 1088, 1084, 1082, 1081, 1078, 1071, 1067, 1064, 1063, 1059, 1052, 1051, 1051, 1048, 1047, 1046, 1042, 1041, 1039, 1038, 1037, 1035, 1034, 1030, 1029, 1027, 1024, 1017, 1015, 1013, 1012, 1011, 1011, 1010, 1008, 1007, 1004, 1004, 1003, 1000, 1000, 999, 998, 996, 995, 995, 992, 990, 987, 985, 984, 983, 982, 981, 977, 973, 973, 971, 967, 966, 961, 959, 958, 957, 957, 956, 952, 950, 941, 941, 940, 939, 936, 935, 933, 927, 924, 924, 922, 919, 917, 911, 908, 907, 906, 904, 903, 900, 899, 899, 895, 893, 886, 884, 884, 883, 883, 881, 880, 878, 874, 874, 873, 872, 870, 865, 864, 860, 860, 859, 856, 855, 853, 852, 850, 849, 849, 845, 844, 840, 835, 834, 831, 831, 829, 824, 824, 820, 819, 816, 812, 810, 810, 808, 804, 803, 803, 795, 794, 793, 793, 791, 789, 783, 781, 780, 777, 769, 769, 765, 764, 761, 760, 758, 758, 755, 755, 753, 752, 752, 750, 749, 748, 747, 746, 745, 745, 742, 742, 740, 739, 738, 737, 735, 735, 733, 732, 732, 730, 729, 725, 723, 722, 721, 717, 714, 712, 711, 711, 708, 708, 705, 703, 701, 698, 698, 698, 697, 695, 694, 690, 688, 688, 687, 687, 686, 686, 685, 683, 681, 679, 678, 677, 677, 676, 673, 670, 667, 665, 664, 663, 663, 662, 660, 660, 659, 657, 657, 654, 654, 652, 645, 643, 642, 641, 641, 638, 637, 637, 637, 637, 637, 637, 635, 635, 635, 635, 635, 634, 633, 629, 628, 627, 626, 625, 623, 622, 620, 620, 618, 617, 615, 614, 613, 613, 611, 611, 609, 609, 607, 606, 605, 605, 604, 603, 602, 602, 602, 601, 599, 599, 598, 596, 595, 595, 593, 592, 592, 591, 590, 590, 589, 585, 585, 584, 583, 579, 579, 579, 578, 577, 573, 573, 573, 572, 571, 571, 570, 569, 568, 568, 565, 563, 563, 562, 562, 561, 561, 559, 558, 556, 555, 555, 554, 552, 552, 551, 550, 550, 550, 546, 546, 542, 541, 541, 541, 541, 541, 540, 539, 534, 533, 533, 532, 532, 532, 532, 531, 530, 530, 530, 530, 530, 529, 529, 529, 529, 529, 528, 528, 527, 527, 527, 526, 526, 526, 525, 525, 524, 522, 521, 521, 520, 518, 518, 518, 517, 517, 517, 516, 516, 516, 516, 515, 514, 514, 512, 511, 511, 510, 509, 505, 505, 505, 504, 504, 504, 503, 503, 503, 503, 502, 502, 502, 502, 502, 501, 501, 500, 500, 498, 498, 498, 496, 496, 496, 495, 493, 492, 492, 492, 490, 490, 490, 489, 489, 486, 485, 485, 485, 483, 483, 483, 482, 482, 482, 482, 481, 480, 480, 479, 479, 479, 478, 477, 477, 476, 476, 475, 475, 474, 474, 473, 473, 472, 471, 471, 470, 469, 469, 468, 468, 468, 468, 468, 467, 465, 465, 464, 464, 464, 463, 462, 460, 459, 458, 458, 456, 455, 455, 455, 455, 454, 453, 452, 451, 451, 450, 449, 445, 444, 444, 444, 442, 441, 441, 440, 440, 439, 439, 438, 438, 437, 437, 437, 437, 436, 436, 436, 436, 435, 435, 435, 435, 434, 433, 433, 433, 433, 433, 432, 432, 432, 432, 431, 431, 430, 430, 429, 429, 428, 428, 427, 427, 427, 426, 425, 425, 424, 423, 423, 423, 423, 422, 422, 422, 421, 420, 420, 419, 419, 419, 419, 419, 418, 418, 417, 417, 417, 417, 416, 415, 414, 414, 414, 414, 414, 414, 412, 412, 411, 410, 410, 409, 409, 409, 407, 407, 406, 406, 406, 405, 405, 404, 404, 404]\n"
     ]
    }
   ],
   "source": [
    "import collections\n",
    "count = collections.Counter()\n",
    "for sentence in sentences_ted:\n",
    "    for word in sentence:\n",
    "        count[word] += 1\n",
    "\n",
    "words_top_ted = [t[0] for t in count.most_common(1000)]\n",
    "counts_ted_top1000 = [t[1] for t in count.most_common(1000)]\n",
    "\n",
    "print(counts_ted_top1000)"
   ]
  },
  {
   "cell_type": "markdown",
   "metadata": {},
   "source": [
    "Plot distribution of top-1000 words"
   ]
  },
  {
   "cell_type": "code",
   "execution_count": 29,
   "metadata": {},
   "outputs": [
    {
     "data": {
      "text/html": [
       "\n",
       "<div class=\"bk-root\">\n",
       "    <div class=\"bk-plotdiv\" id=\"d014c501-2f6f-48f4-a590-dc692cd465e1\"></div>\n",
       "</div>"
      ]
     },
     "metadata": {},
     "output_type": "display_data"
    },
    {
     "data": {
      "application/javascript": [
       "(function(root) {\n",
       "  function embed_document(root) {\n",
       "    var docs_json = {\"0e7f1d14-f20e-4f40-aee8-c728e54a472f\":{\"roots\":{\"references\":[{\"attributes\":{\"bottom\":{\"value\":0},\"fill_alpha\":{\"value\":0.1},\"fill_color\":{\"value\":\"#1f77b4\"},\"left\":{\"field\":\"left\"},\"line_alpha\":{\"value\":0.1},\"line_color\":{\"value\":\"#1f77b4\"},\"right\":{\"field\":\"right\"},\"top\":{\"field\":\"top\"}},\"id\":\"f1a2249c-5832-400b-b853-25c4f6f850e3\",\"type\":\"Quad\"},{\"attributes\":{},\"id\":\"29b7ddbb-6c92-4c60-bd48-b715d5f9ecf7\",\"type\":\"BasicTickFormatter\"},{\"attributes\":{},\"id\":\"27fd5a5a-f9fc-4b25-8eea-3cd034da787e\",\"type\":\"PanTool\"},{\"attributes\":{\"plot\":{\"id\":\"14e7acc5-7438-4961-ba15-3f606cc5b718\",\"subtype\":\"Figure\",\"type\":\"Plot\"},\"ticker\":{\"id\":\"4808b1a3-8dd0-4ca0-affb-1d85dc73e7ac\",\"type\":\"BasicTicker\"}},\"id\":\"749206e2-5f47-4a9b-b9cd-3cccfe571508\",\"type\":\"Grid\"},{\"attributes\":{},\"id\":\"120017b9-d169-43ff-9074-75ed973aaa7a\",\"type\":\"WheelZoomTool\"},{\"attributes\":{},\"id\":\"8b33a6bf-f4d1-4bb4-87ca-b398b760eb3a\",\"type\":\"ResetTool\"},{\"attributes\":{},\"id\":\"aa5d51ac-a402-4da8-a2cd-1ce25b7b8c5c\",\"type\":\"LinearScale\"},{\"attributes\":{},\"id\":\"76ec46f5-634e-4749-9e65-92eff6bf161b\",\"type\":\"SaveTool\"},{\"attributes\":{\"plot\":null,\"text\":\"Top-1000 words distribution\"},\"id\":\"c1fb7533-d07b-45a5-80cf-101013e26a54\",\"type\":\"Title\"},{\"attributes\":{\"callback\":null},\"id\":\"0cdc5fac-455a-4bda-bde0-72b3b982e917\",\"type\":\"DataRange1d\"},{\"attributes\":{\"bottom\":{\"value\":0},\"fill_color\":{\"value\":\"#1f77b4\"},\"left\":{\"field\":\"left\"},\"line_color\":{\"value\":\"#555555\"},\"right\":{\"field\":\"right\"},\"top\":{\"field\":\"top\"}},\"id\":\"ff39576a-0cd3-46b7-9175-bfb0d985f9f1\",\"type\":\"Quad\"},{\"attributes\":{\"active_drag\":\"auto\",\"active_inspect\":\"auto\",\"active_scroll\":\"auto\",\"active_tap\":\"auto\",\"tools\":[{\"id\":\"27fd5a5a-f9fc-4b25-8eea-3cd034da787e\",\"type\":\"PanTool\"},{\"id\":\"120017b9-d169-43ff-9074-75ed973aaa7a\",\"type\":\"WheelZoomTool\"},{\"id\":\"8b33a6bf-f4d1-4bb4-87ca-b398b760eb3a\",\"type\":\"ResetTool\"},{\"id\":\"76ec46f5-634e-4749-9e65-92eff6bf161b\",\"type\":\"SaveTool\"}]},\"id\":\"79ab8157-3b78-421d-907c-24bfe2700cb0\",\"type\":\"Toolbar\"},{\"attributes\":{\"callback\":null},\"id\":\"194f31a9-18b7-4d5e-bd07-c588a711d8c3\",\"type\":\"DataRange1d\"},{\"attributes\":{\"below\":[{\"id\":\"8a4f57d9-d59d-4a2d-8a72-072e715db381\",\"type\":\"LinearAxis\"}],\"left\":[{\"id\":\"d0e9e626-6206-4d73-9fd5-886916efad59\",\"type\":\"LinearAxis\"}],\"renderers\":[{\"id\":\"8a4f57d9-d59d-4a2d-8a72-072e715db381\",\"type\":\"LinearAxis\"},{\"id\":\"749206e2-5f47-4a9b-b9cd-3cccfe571508\",\"type\":\"Grid\"},{\"id\":\"d0e9e626-6206-4d73-9fd5-886916efad59\",\"type\":\"LinearAxis\"},{\"id\":\"5344a3cf-b8d9-475f-b5a8-a7113583ab2c\",\"type\":\"Grid\"},{\"id\":\"c1e7cc41-1f35-4857-aa14-70d383e48585\",\"type\":\"GlyphRenderer\"}],\"title\":{\"id\":\"c1fb7533-d07b-45a5-80cf-101013e26a54\",\"type\":\"Title\"},\"toolbar\":{\"id\":\"79ab8157-3b78-421d-907c-24bfe2700cb0\",\"type\":\"Toolbar\"},\"toolbar_location\":\"above\",\"x_range\":{\"id\":\"0cdc5fac-455a-4bda-bde0-72b3b982e917\",\"type\":\"DataRange1d\"},\"x_scale\":{\"id\":\"aa5d51ac-a402-4da8-a2cd-1ce25b7b8c5c\",\"type\":\"LinearScale\"},\"y_range\":{\"id\":\"194f31a9-18b7-4d5e-bd07-c588a711d8c3\",\"type\":\"DataRange1d\"},\"y_scale\":{\"id\":\"044435a9-5f5b-4a99-8add-11d55ceec722\",\"type\":\"LinearScale\"}},\"id\":\"14e7acc5-7438-4961-ba15-3f606cc5b718\",\"subtype\":\"Figure\",\"type\":\"Plot\"},{\"attributes\":{\"data_source\":{\"id\":\"e114ae67-2d6f-4c87-beb4-cfb663deee16\",\"type\":\"ColumnDataSource\"},\"glyph\":{\"id\":\"ff39576a-0cd3-46b7-9175-bfb0d985f9f1\",\"type\":\"Quad\"},\"hover_glyph\":null,\"muted_glyph\":null,\"nonselection_glyph\":{\"id\":\"f1a2249c-5832-400b-b853-25c4f6f850e3\",\"type\":\"Quad\"},\"selection_glyph\":null,\"view\":{\"id\":\"a8611588-dafe-4cc4-b589-4f4abdc4e708\",\"type\":\"CDSView\"}},\"id\":\"c1e7cc41-1f35-4857-aa14-70d383e48585\",\"type\":\"GlyphRenderer\"},{\"attributes\":{\"callback\":null,\"column_names\":[\"left\",\"right\",\"top\"],\"data\":{\"left\":{\"__ndarray__\":\"AAAAAABAeUB7FK5H4VqjQHsUrkfhxrFAuB6F61HguUB7FK5H4fzAQJqZmZmZCcVAuB6F61EWyUDXo3A9CiPNQHsUrkfhl9BACtejcD2e0kCamZmZmaTUQClcj8L1qtZAuB6F61Gx2EBI4XoUrrfaQNejcD0KvtxAZ2ZmZmbE3kB7FK5HYWXgQMP1KFyPaOFACtejcL1r4kBSuB6F627jQJqZmZkZcuRA4XoUrkd15UApXI/CdXjmQHE9Cteje+dAuB6F69F+6EAAAAAAAILpQEjhehQuhepAkML1KFyI60DXo3A9iovsQB+F61G4ju1AZ2ZmZuaR7kCuR+F6FJXvQHsUrkchTPBAH4XrUbjN8EDD9ShcT0/xQGdmZmbm0PFACtejcH1S8kCuR+F6FNTyQFK4HoWrVfNA9ihcj0LX80CamZmZ2Vj0QD4K16Nw2vRA4XoUrgdc9UCF61G4nt31QClcj8I1X/ZAzczMzMzg9kBxPQrXY2L3QBWuR+H64/dAuB6F65Fl+EBcj8L1KOf4QAAAAADAaPlApHA9Clfq+UBI4XoU7mv6QOxRuB6F7fpAkML1KBxv+0AzMzMzs/D7QNejcD1KcvxAexSuR+Hz/EAfhetReHX9QMP1KFwP9/1AZ2ZmZqZ4/kAK16NwPfr+QK5H4XrUe/9AUrgehWv9/0B7FK5HgT8AQc3MzMxMgABBH4XrURjBAEFxPQrX4wEBQcP1KFyvQgFBFa5H4XqDAUFnZmZmRsQBQbgehesRBQJBCtejcN1FAkFcj8L1qIYCQa5H4Xp0xwJBAAAAAEAIA0FSuB6FC0kDQaRwPQrXiQNB9ihcj6LKA0FI4XoUbgsEQZqZmZk5TARB7FG4HgWNBEE+Ctej0M0EQZDC9SicDgVB4XoUrmdPBUEzMzMzM5AFQYXrUbj+0AVB16NwPcoRBkEpXI/ClVIGQXsUrkdhkwZBzczMzCzUBkEfhetR+BQHQXE9CtfDVQdBw/UoXI+WB0EVrkfhWtcHQWdmZmYmGAhBuB6F6/FYCEEK16NwvZkIQVyPwvWI2ghBrkfhelQbCUE=\",\"dtype\":\"float64\",\"shape\":[100]},\"right\":{\"__ndarray__\":\"exSuR+Fao0B7FK5H4caxQLgehetR4LlAexSuR+H8wECamZmZmQnFQLgehetRFslA16NwPQojzUB7FK5H4ZfQQArXo3A9ntJAmpmZmZmk1EApXI/C9arWQLgehetRsdhASOF6FK632kDXo3A9Cr7cQGdmZmZmxN5AexSuR2Fl4EDD9Shcj2jhQArXo3C9a+JAUrgehetu40CamZmZGXLkQOF6FK5HdeVAKVyPwnV45kBxPQrXo3vnQLgehevRfuhAAAAAAACC6UBI4XoULoXqQJDC9ShciOtA16NwPYqL7EAfhetRuI7tQGdmZmbmke5ArkfhehSV70B7FK5HIUzwQB+F61G4zfBAw/UoXE9P8UBnZmZm5tDxQArXo3B9UvJArkfhehTU8kBSuB6Fq1XzQPYoXI9C1/NAmpmZmdlY9EA+CtejcNr0QOF6FK4HXPVAhetRuJ7d9UApXI/CNV/2QM3MzMzM4PZAcT0K12Ni90AVrkfh+uP3QLgeheuRZfhAXI/C9Sjn+EAAAAAAwGj5QKRwPQpX6vlASOF6FO5r+kDsUbgehe36QJDC9Sgcb/tAMzMzM7Pw+0DXo3A9SnL8QHsUrkfh8/xAH4XrUXh1/UDD9ShcD/f9QGdmZmameP5ACtejcD36/kCuR+F61Hv/QFK4HoVr/f9AexSuR4E/AEHNzMzMTIAAQR+F61EYwQBBcT0K1+MBAUHD9Shcr0IBQRWuR+F6gwFBZ2ZmZkbEAUG4HoXrEQUCQQrXo3DdRQJBXI/C9aiGAkGuR+F6dMcCQQAAAABACANBUrgehQtJA0GkcD0K14kDQfYoXI+iygNBSOF6FG4LBEGamZmZOUwEQexRuB4FjQRBPgrXo9DNBEGQwvUonA4FQeF6FK5nTwVBMzMzMzOQBUGF61G4/tAFQdejcD3KEQZBKVyPwpVSBkF7FK5HYZMGQc3MzMws1AZBH4XrUfgUB0FxPQrXw1UHQcP1KFyPlgdBFa5H4VrXB0FnZmZmJhgIQbgehevxWAhBCtejcL2ZCEFcj8L1iNoIQa5H4XpUGwlBAAAAACBcCUE=\",\"dtype\":\"float64\",\"shape\":[100]},\"top\":{\"__ndarray__\":\"50H1zNSBOT/ypb1tgHIBPwsriUb5Uew+zuTFiLI04j78kGUPxTHhPh40R25oQNY+zuTFiLI00j4pPQWW1y7APsTbB2FDRsg+JT0FltcuwD4tPQWW1y6wPi09BZbXLrA+JT0FltcuwD4tPQWW1y6gPiU9BZbXLrA+LT0FltcuoD4AAAAAAAAAADU9BZbXLqA+AAAAAAAAAAAAAAAAAAAAAAAAAAAAAAAAAAAAAAAAAAAAAAAAAAAAADU9BZbXLqA+AAAAAAAAAAAAAAAAAAAAAAAAAAAAAAAANT0FltcuoD4AAAAAAAAAAAAAAAAAAAAANT0FltcuoD4AAAAAAAAAACU9BZbXLqA+AAAAAAAAAAAlPQWW1y6gPkU9BZbXLqA+AAAAAAAAAAAlPQWW1y6gPgAAAAAAAAAAJT0FltcuoD4AAAAAAAAAAAAAAAAAAAAAAAAAAAAAAAAAAAAAAAAAAAAAAAAAAAAAJT0FltcuoD4AAAAAAAAAAAAAAAAAAAAAAAAAAAAAAAAAAAAAAAAAACU9BZbXLqA+AAAAAAAAAAAAAAAAAAAAAAAAAAAAAAAAAAAAAAAAAAAlPQWW1y6gPgAAAAAAAAAAAAAAAAAAAAAAAAAAAAAAAAAAAAAAAAAART0FltcuoD4AAAAAAAAAAAAAAAAAAAAAAAAAAAAAAAAAAAAAAAAAAAAAAAAAAAAAAAAAAAAAAAAAAAAAAAAAAAAAAAAAAAAAAAAAAAAAAAAAAAAAAAAAACU9BZbXLqA+AAAAAAAAAAAAAAAAAAAAAAAAAAAAAAAAAAAAAAAAAAAAAAAAAAAAAAAAAAAAAAAAAAAAAAAAAAAAAAAAAAAAAAAAAAAAAAAAAAAAAAAAAAAAAAAAAAAAAAAAAAAAAAAAAAAAAAAAAAAAAAAAAAAAAAAAAAAAAAAAAAAAAAAAAAAAAAAAAAAAAAAAAAAAAAAAAAAAAAAAAAAAAAAAAAAAAAAAAAAAAAAAAAAAAAAAAAAAAAAAAAAAAAAAAAAAAAAAAAAAAAAAAAAAAAAAAAAAAAAAAAAAAAAAJT0FltcuoD4=\",\"dtype\":\"float64\",\"shape\":[100]}}},\"id\":\"e114ae67-2d6f-4c87-beb4-cfb663deee16\",\"type\":\"ColumnDataSource\"},{\"attributes\":{},\"id\":\"044435a9-5f5b-4a99-8add-11d55ceec722\",\"type\":\"LinearScale\"},{\"attributes\":{\"formatter\":{\"id\":\"29b7ddbb-6c92-4c60-bd48-b715d5f9ecf7\",\"type\":\"BasicTickFormatter\"},\"plot\":{\"id\":\"14e7acc5-7438-4961-ba15-3f606cc5b718\",\"subtype\":\"Figure\",\"type\":\"Plot\"},\"ticker\":{\"id\":\"4808b1a3-8dd0-4ca0-affb-1d85dc73e7ac\",\"type\":\"BasicTicker\"}},\"id\":\"8a4f57d9-d59d-4a2d-8a72-072e715db381\",\"type\":\"LinearAxis\"},{\"attributes\":{},\"id\":\"e00053f6-41cf-4ed4-b270-f78be66bc7af\",\"type\":\"BasicTickFormatter\"},{\"attributes\":{},\"id\":\"4808b1a3-8dd0-4ca0-affb-1d85dc73e7ac\",\"type\":\"BasicTicker\"},{\"attributes\":{\"formatter\":{\"id\":\"e00053f6-41cf-4ed4-b270-f78be66bc7af\",\"type\":\"BasicTickFormatter\"},\"plot\":{\"id\":\"14e7acc5-7438-4961-ba15-3f606cc5b718\",\"subtype\":\"Figure\",\"type\":\"Plot\"},\"ticker\":{\"id\":\"59b055a4-fc43-432f-90bd-e7a01b40eb1f\",\"type\":\"BasicTicker\"}},\"id\":\"d0e9e626-6206-4d73-9fd5-886916efad59\",\"type\":\"LinearAxis\"},{\"attributes\":{},\"id\":\"59b055a4-fc43-432f-90bd-e7a01b40eb1f\",\"type\":\"BasicTicker\"},{\"attributes\":{\"dimension\":1,\"plot\":{\"id\":\"14e7acc5-7438-4961-ba15-3f606cc5b718\",\"subtype\":\"Figure\",\"type\":\"Plot\"},\"ticker\":{\"id\":\"59b055a4-fc43-432f-90bd-e7a01b40eb1f\",\"type\":\"BasicTicker\"}},\"id\":\"5344a3cf-b8d9-475f-b5a8-a7113583ab2c\",\"type\":\"Grid\"},{\"attributes\":{\"source\":{\"id\":\"e114ae67-2d6f-4c87-beb4-cfb663deee16\",\"type\":\"ColumnDataSource\"}},\"id\":\"a8611588-dafe-4cc4-b589-4f4abdc4e708\",\"type\":\"CDSView\"}],\"root_ids\":[\"14e7acc5-7438-4961-ba15-3f606cc5b718\"]},\"title\":\"Bokeh Application\",\"version\":\"0.12.10\"}};\n",
       "    var render_items = [{\"docid\":\"0e7f1d14-f20e-4f40-aee8-c728e54a472f\",\"elementid\":\"d014c501-2f6f-48f4-a590-dc692cd465e1\",\"modelid\":\"14e7acc5-7438-4961-ba15-3f606cc5b718\"}];\n",
       "\n",
       "    root.Bokeh.embed.embed_items(docs_json, render_items);\n",
       "  }\n",
       "\n",
       "  if (root.Bokeh !== undefined) {\n",
       "    embed_document(root);\n",
       "  } else {\n",
       "    var attempts = 0;\n",
       "    var timer = setInterval(function(root) {\n",
       "      if (root.Bokeh !== undefined) {\n",
       "        embed_document(root);\n",
       "        clearInterval(timer);\n",
       "      }\n",
       "      attempts++;\n",
       "      if (attempts > 100) {\n",
       "        console.log(\"Bokeh: ERROR: Unable to embed document because BokehJS library is missing\")\n",
       "        clearInterval(timer);\n",
       "      }\n",
       "    }, 10, root)\n",
       "  }\n",
       "})(window);"
      ],
      "application/vnd.bokehjs_exec.v0+json": ""
     },
     "metadata": {
      "application/vnd.bokehjs_exec.v0+json": {
       "id": "14e7acc5-7438-4961-ba15-3f606cc5b718"
      }
     },
     "output_type": "display_data"
    }
   ],
   "source": [
    "hist, edges = np.histogram(counts_ted_top1000, density=True, bins=100, normed=True)\n",
    "\n",
    "p = figure(tools=\"pan,wheel_zoom,reset,save\",\n",
    "           toolbar_location=\"above\",\n",
    "           title=\"Top-1000 words distribution\")\n",
    "p.quad(top=hist, bottom=0, left=edges[:-1], right=edges[1:], line_color=\"#555555\")\n",
    "show(p)"
   ]
  },
  {
   "cell_type": "markdown",
   "metadata": {},
   "source": [
    "### Part 3: Train Word2Vec"
   ]
  },
  {
   "cell_type": "code",
   "execution_count": 30,
   "metadata": {},
   "outputs": [],
   "source": [
    "from gensim.models import Word2Vec"
   ]
  },
  {
   "cell_type": "code",
   "execution_count": 31,
   "metadata": {},
   "outputs": [
    {
     "name": "stdout",
     "output_type": "stream",
     "text": [
      "14427\n"
     ]
    }
   ],
   "source": [
    "model_ted = Word2Vec(sentences_ted, min_count=10)\n",
    "print(len(model_ted.wv.vocab))"
   ]
  },
  {
   "cell_type": "markdown",
   "metadata": {},
   "source": [
    "### Part 4: Ted Learnt Representations"
   ]
  },
  {
   "cell_type": "markdown",
   "metadata": {},
   "source": [
    "Finding similar words: (see gensim docs for more functionality of `most_similar`)"
   ]
  },
  {
   "cell_type": "code",
   "execution_count": 32,
   "metadata": {},
   "outputs": [
    {
     "data": {
      "text/plain": [
       "[('woman', 0.8471193909645081),\n",
       " ('guy', 0.8168222904205322),\n",
       " ('lady', 0.7644358277320862),\n",
       " ('boy', 0.7421629428863525),\n",
       " ('gentleman', 0.7387612462043762),\n",
       " ('soldier', 0.7236071825027466),\n",
       " ('girl', 0.7069463133811951),\n",
       " ('kid', 0.6778624057769775),\n",
       " ('person', 0.6708043813705444),\n",
       " ('surgeon', 0.6670073866844177)]"
      ]
     },
     "execution_count": 32,
     "metadata": {},
     "output_type": "execute_result"
    }
   ],
   "source": [
    "model_ted.most_similar(\"man\")"
   ]
  },
  {
   "cell_type": "code",
   "execution_count": 33,
   "metadata": {},
   "outputs": [
    {
     "data": {
      "text/plain": [
       "[('machine', 0.7251894474029541),\n",
       " ('software', 0.7226569652557373),\n",
       " ('robot', 0.6719568967819214),\n",
       " ('device', 0.6662875413894653),\n",
       " ('3d', 0.6628901362419128),\n",
       " ('interface', 0.6551648378372192),\n",
       " ('printer', 0.6388242840766907),\n",
       " ('program', 0.6377686858177185),\n",
       " ('mechanical', 0.633578896522522),\n",
       " ('camera', 0.6287928819656372)]"
      ]
     },
     "execution_count": 33,
     "metadata": {},
     "output_type": "execute_result"
    }
   ],
   "source": [
    "model_ted.most_similar(\"computer\")"
   ]
  },
  {
   "cell_type": "code",
   "execution_count": null,
   "metadata": {
    "collapsed": true
   },
   "outputs": [],
   "source": [
    "# ..."
   ]
  },
  {
   "cell_type": "markdown",
   "metadata": {},
   "source": [
    "#### t-SNE visualization\n",
    "To use the t-SNE code below, first put a list of the top 1000 words (as strings) into a variable `words_top_ted`. The following code gets the corresponding vectors from the model, assuming it's called `model_ted`:"
   ]
  },
  {
   "cell_type": "code",
   "execution_count": 34,
   "metadata": {},
   "outputs": [],
   "source": [
    "# This assumes words_top_ted is a list of strings, the top 1000 words\n",
    "words_top_vec_ted = model_ted[words_top_ted]"
   ]
  },
  {
   "cell_type": "code",
   "execution_count": 35,
   "metadata": {
    "collapsed": true
   },
   "outputs": [],
   "source": [
    "from sklearn.manifold import TSNE\n",
    "tsne = TSNE(n_components=2, random_state=0)\n",
    "words_top_ted_tsne = tsne.fit_transform(words_top_vec_ted)"
   ]
  },
  {
   "cell_type": "code",
   "execution_count": 36,
   "metadata": {},
   "outputs": [
    {
     "data": {
      "text/html": [
       "\n",
       "<div class=\"bk-root\">\n",
       "    <div class=\"bk-plotdiv\" id=\"02dae32e-147b-48ad-be9d-14689f46904d\"></div>\n",
       "</div>"
      ]
     },
     "metadata": {},
     "output_type": "display_data"
    },
    {
     "data": {
      "application/javascript": [
       "(function(root) {\n",
       "  function embed_document(root) {\n",
       "    var docs_json = {\"f7f34efa-2de7-4507-8af4-3654456725a5\":{\"roots\":{\"references\":[{\"attributes\":{\"source\":{\"id\":\"9e15e5e7-408a-41a2-9511-e109d9750c1f\",\"type\":\"ColumnDataSource\"}},\"id\":\"f4b4c247-b2a3-4e96-a11e-fbe31714757c\",\"type\":\"CDSView\"},{\"attributes\":{},\"id\":\"af52d93e-2a93-4516-a889-5c8e857dd7cd\",\"type\":\"LinearScale\"},{\"attributes\":{\"callback\":null},\"id\":\"db683932-1ff9-4392-99e5-33a2866cee09\",\"type\":\"DataRange1d\"},{\"attributes\":{},\"id\":\"862588e0-efa7-475d-a6c5-cdd0a87b31f3\",\"type\":\"BasicTickFormatter\"},{\"attributes\":{\"formatter\":{\"id\":\"862588e0-efa7-475d-a6c5-cdd0a87b31f3\",\"type\":\"BasicTickFormatter\"},\"plot\":{\"id\":\"2f8e2285-1038-419b-8c25-30ea8fc3a000\",\"subtype\":\"Figure\",\"type\":\"Plot\"},\"ticker\":{\"id\":\"af18bbdb-c5b7-413d-abb1-3fa9b5a1d05c\",\"type\":\"BasicTicker\"}},\"id\":\"727b6a00-18aa-4617-b516-01b53b8d1f84\",\"type\":\"LinearAxis\"},{\"attributes\":{},\"id\":\"af18bbdb-c5b7-413d-abb1-3fa9b5a1d05c\",\"type\":\"BasicTicker\"},{\"attributes\":{\"formatter\":{\"id\":\"8499c642-a5af-4bb1-bca0-c1956b72d75c\",\"type\":\"BasicTickFormatter\"},\"plot\":{\"id\":\"2f8e2285-1038-419b-8c25-30ea8fc3a000\",\"subtype\":\"Figure\",\"type\":\"Plot\"},\"ticker\":{\"id\":\"a1bf7d5e-f5e4-4e84-bbb8-2c0206e9cbdd\",\"type\":\"BasicTicker\"}},\"id\":\"bfb68597-019f-4424-8cb3-d8b27ff65e09\",\"type\":\"LinearAxis\"},{\"attributes\":{},\"id\":\"a1bf7d5e-f5e4-4e84-bbb8-2c0206e9cbdd\",\"type\":\"BasicTicker\"},{\"attributes\":{\"dimension\":1,\"plot\":{\"id\":\"2f8e2285-1038-419b-8c25-30ea8fc3a000\",\"subtype\":\"Figure\",\"type\":\"Plot\"},\"ticker\":{\"id\":\"a1bf7d5e-f5e4-4e84-bbb8-2c0206e9cbdd\",\"type\":\"BasicTicker\"}},\"id\":\"400fcb64-f506-4548-8ae3-1f567a3e1fc7\",\"type\":\"Grid\"},{\"attributes\":{},\"id\":\"3735562d-e30b-488e-a1f2-0ab80b233ba0\",\"type\":\"LinearScale\"},{\"attributes\":{\"fill_alpha\":{\"value\":0.1},\"fill_color\":{\"value\":\"#1f77b4\"},\"line_alpha\":{\"value\":0.1},\"line_color\":{\"value\":\"#1f77b4\"},\"size\":{\"units\":\"screen\",\"value\":8},\"x\":{\"field\":\"x1\"},\"y\":{\"field\":\"x2\"}},\"id\":\"0af40187-e886-429f-b35b-e4dbc75072c4\",\"type\":\"Circle\"},{\"attributes\":{\"plot\":{\"id\":\"2f8e2285-1038-419b-8c25-30ea8fc3a000\",\"subtype\":\"Figure\",\"type\":\"Plot\"},\"source\":{\"id\":\"9e15e5e7-408a-41a2-9511-e109d9750c1f\",\"type\":\"ColumnDataSource\"},\"text\":{\"field\":\"names\"},\"text_align\":\"center\",\"text_color\":{\"value\":\"#555555\"},\"text_font_size\":{\"value\":\"8pt\"},\"x\":{\"field\":\"x1\"},\"y\":{\"field\":\"x2\"},\"y_offset\":{\"value\":6}},\"id\":\"fba2bc2c-df81-48ce-ad2d-40048b674a50\",\"type\":\"LabelSet\"},{\"attributes\":{},\"id\":\"dd2ba123-5246-41a3-89f8-92ea6e06550f\",\"type\":\"PanTool\"},{\"attributes\":{\"below\":[{\"id\":\"727b6a00-18aa-4617-b516-01b53b8d1f84\",\"type\":\"LinearAxis\"}],\"left\":[{\"id\":\"bfb68597-019f-4424-8cb3-d8b27ff65e09\",\"type\":\"LinearAxis\"}],\"renderers\":[{\"id\":\"727b6a00-18aa-4617-b516-01b53b8d1f84\",\"type\":\"LinearAxis\"},{\"id\":\"a5029976-5993-4c04-8e04-91c11ff55368\",\"type\":\"Grid\"},{\"id\":\"bfb68597-019f-4424-8cb3-d8b27ff65e09\",\"type\":\"LinearAxis\"},{\"id\":\"400fcb64-f506-4548-8ae3-1f567a3e1fc7\",\"type\":\"Grid\"},{\"id\":\"b27c49e6-d172-452d-a813-f02dae1e6344\",\"type\":\"GlyphRenderer\"},{\"id\":\"fba2bc2c-df81-48ce-ad2d-40048b674a50\",\"type\":\"LabelSet\"}],\"title\":{\"id\":\"2b0f8ccc-f8ba-475e-9715-594aba60ba80\",\"type\":\"Title\"},\"toolbar\":{\"id\":\"660a7d55-c280-4f6d-8535-0d24f4588267\",\"type\":\"Toolbar\"},\"toolbar_location\":\"above\",\"x_range\":{\"id\":\"b12ebf7c-5df1-4ddd-9c33-9c435bbbfbd3\",\"type\":\"DataRange1d\"},\"x_scale\":{\"id\":\"af52d93e-2a93-4516-a889-5c8e857dd7cd\",\"type\":\"LinearScale\"},\"y_range\":{\"id\":\"db683932-1ff9-4392-99e5-33a2866cee09\",\"type\":\"DataRange1d\"},\"y_scale\":{\"id\":\"3735562d-e30b-488e-a1f2-0ab80b233ba0\",\"type\":\"LinearScale\"}},\"id\":\"2f8e2285-1038-419b-8c25-30ea8fc3a000\",\"subtype\":\"Figure\",\"type\":\"Plot\"},{\"attributes\":{\"data_source\":{\"id\":\"9e15e5e7-408a-41a2-9511-e109d9750c1f\",\"type\":\"ColumnDataSource\"},\"glyph\":{\"id\":\"942456ce-0506-49d5-9814-225848c999ac\",\"type\":\"Circle\"},\"hover_glyph\":null,\"muted_glyph\":null,\"nonselection_glyph\":{\"id\":\"0af40187-e886-429f-b35b-e4dbc75072c4\",\"type\":\"Circle\"},\"selection_glyph\":null,\"view\":{\"id\":\"f4b4c247-b2a3-4e96-a11e-fbe31714757c\",\"type\":\"CDSView\"}},\"id\":\"b27c49e6-d172-452d-a813-f02dae1e6344\",\"type\":\"GlyphRenderer\"},{\"attributes\":{\"callback\":null,\"column_names\":[\"x1\",\"x2\",\"names\"],\"data\":{\"names\":[\"the\",\"and\",\"to\",\"of\",\"a\",\"that\",\"i\",\"in\",\"it\",\"you\",\"we\",\"is\",\"s\",\"this\",\"so\",\"they\",\"was\",\"for\",\"are\",\"have\",\"but\",\"what\",\"on\",\"with\",\"can\",\"t\",\"about\",\"there\",\"be\",\"as\",\"at\",\"all\",\"not\",\"do\",\"my\",\"one\",\"re\",\"people\",\"like\",\"if\",\"from\",\"now\",\"our\",\"he\",\"an\",\"just\",\"these\",\"or\",\"when\",\"because\",\"very\",\"me\",\"out\",\"by\",\"them\",\"how\",\"know\",\"up\",\"going\",\"had\",\"more\",\"think\",\"who\",\"were\",\"see\",\"your\",\"their\",\"which\",\"would\",\"here\",\"really\",\"get\",\"ve\",\"then\",\"m\",\"world\",\"us\",\"time\",\"some\",\"has\",\"don\",\"actually\",\"into\",\"way\",\"where\",\"will\",\"years\",\"things\",\"other\",\"no\",\"could\",\"go\",\"well\",\"want\",\"been\",\"make\",\"right\",\"she\",\"said\",\"something\",\"those\",\"first\",\"two\",\"than\",\"much\",\"also\",\"look\",\"new\",\"thing\",\"little\",\"got\",\"back\",\"over\",\"most\",\"say\",\"even\",\"his\",\"life\",\"only\",\"work\",\"many\",\"take\",\"need\",\"did\",\"lot\",\"kind\",\"why\",\"good\",\"around\",\"every\",\"different\",\"down\",\"ll\",\"let\",\"her\",\"through\",\"same\",\"being\",\"come\",\"d\",\"day\",\"year\",\"three\",\"use\",\"doing\",\"put\",\"called\",\"any\",\"today\",\"percent\",\"made\",\"after\",\"thank\",\"tell\",\"great\",\"human\",\"find\",\"didn\",\"fact\",\"talk\",\"change\",\"started\",\"another\",\"idea\",\"big\",\"last\",\"own\",\"before\",\"its\",\"never\",\"should\",\"better\",\"give\",\"thought\",\"went\",\"might\",\"important\",\"000\",\"again\",\"able\",\"together\",\"still\",\"problem\",\"off\",\"next\",\"part\",\"course\",\"system\",\"him\",\"does\",\"each\",\"start\",\"show\",\"long\",\"ago\",\"story\",\"came\",\"brain\",\"few\",\"bit\",\"between\",\"used\",\"place\",\"technology\",\"women\",\"too\",\"old\",\"mean\",\"data\",\"water\",\"looking\",\"question\",\"maybe\",\"found\",\"love\",\"doesn\",\"end\",\"example\",\"10\",\"done\",\"point\",\"four\",\"real\",\"wanted\",\"ever\",\"school\",\"understand\",\"sort\",\"live\",\"call\",\"whole\",\"children\",\"always\",\"trying\",\"may\",\"person\",\"away\",\"believe\",\"feel\",\"try\",\"million\",\"working\",\"help\",\"everything\",\"five\",\"country\",\"thinking\",\"second\",\"using\",\"information\",\"money\",\"means\",\"power\",\"took\",\"times\",\"high\",\"space\",\"number\",\"kids\",\"home\",\"become\",\"create\",\"small\",\"design\",\"making\",\"best\",\"left\",\"getting\",\"future\",\"enough\",\"man\",\"quite\",\"city\",\"without\",\"sense\",\"happened\",\"comes\",\"social\",\"probably\",\"less\",\"light\",\"talking\",\"energy\",\"am\",\"building\",\"science\",\"food\",\"body\",\"told\",\"interesting\",\"ask\",\"half\",\"pretty\",\"hard\",\"play\",\"anything\",\"lives\",\"countries\",\"coming\",\"such\",\"family\",\"stuff\",\"dollars\",\"earth\",\"moment\",\"20\",\"imagine\",\"across\",\"side\",\"while\",\"saw\",\"happen\",\"once\",\"okay\",\"build\",\"having\",\"men\",\"later\",\"experience\",\"makes\",\"asked\",\"living\",\"seen\",\"says\",\"room\",\"hand\",\"simple\",\"health\",\"ways\",\"else\",\"case\",\"yet\",\"almost\",\"young\",\"days\",\"nothing\",\"care\",\"bad\",\"happens\",\"goes\",\"move\",\"states\",\"reason\",\"computer\",\"open\",\"learn\",\"africa\",\"process\",\"inside\",\"someone\",\"six\",\"far\",\"mind\",\"project\",\"remember\",\"single\",\"picture\",\"both\",\"whether\",\"problems\",\"saying\",\"community\",\"basically\",\"already\",\"within\",\"looked\",\"myself\",\"billion\",\"often\",\"possible\",\"business\",\"planet\",\"global\",\"everybody\",\"top\",\"sure\",\"public\",\"set\",\"wrong\",\"car\",\"book\",\"keep\",\"yes\",\"answer\",\"oh\",\"hope\",\"sometimes\",\"true\",\"history\",\"war\",\"guy\",\"child\",\"instead\",\"months\",\"ideas\",\"looks\",\"matter\",\"government\",\"amazing\",\"united\",\"since\",\"bring\",\"age\",\"cells\",\"job\",\"heard\",\"until\",\"face\",\"wasn\",\"100\",\"read\",\"control\",\"isn\",\"research\",\"30\",\"words\",\"u\",\"group\",\"under\",\"self\",\"somebody\",\"built\",\"state\",\"woman\",\"turn\",\"friends\",\"beautiful\",\"line\",\"knew\",\"couple\",\"order\",\"form\",\"yeah\",\"internet\",\"middle\",\"music\",\"piece\",\"nature\",\"head\",\"though\",\"stop\",\"everyone\",\"50\",\"places\",\"video\",\"learned\",\"language\",\"run\",\"night\",\"decided\",\"study\",\"word\",\"cancer\",\"taking\",\"works\",\"became\",\"exactly\",\"species\",\"society\",\"completely\",\"education\",\"against\",\"stories\",\"large\",\"share\",\"level\",\"heart\",\"america\",\"model\",\"questions\",\"gets\",\"mother\",\"god\",\"company\",\"turns\",\"ourselves\",\"happening\",\"hear\",\"art\",\"themselves\",\"must\",\"itself\",\"rather\",\"kinds\",\"students\",\"name\",\"hours\",\"disease\",\"front\",\"house\",\"huge\",\"couldn\",\"created\",\"universe\",\"ok\",\"animals\",\"american\",\"environment\",\"worked\",\"minutes\",\"ones\",\"black\",\"perhaps\",\"1\",\"past\",\"third\",\"along\",\"others\",\"finally\",\"sound\",\"early\",\"game\",\"thousands\",\"century\",\"based\",\"least\",\"per\",\"ted\",\"lots\",\"figure\",\"free\",\"guys\",\"particular\",\"happy\",\"news\",\"learning\",\"entire\",\"won\",\"gave\",\"machine\",\"india\",\"during\",\"systems\",\"air\",\"difference\",\"outside\",\"natural\",\"taken\",\"seven\",\"given\",\"changed\",\"leave\",\"cell\",\"15\",\"close\",\"behind\",\"cities\",\"full\",\"scale\",\"difficult\",\"china\",\"takes\",\"companies\",\"yourself\",\"area\",\"reality\",\"seeing\",\"easy\",\"turned\",\"cost\",\"eyes\",\"team\",\"moving\",\"population\",\"culture\",\"york\",\"hands\",\"whatever\",\"began\",\"needs\",\"terms\",\"image\",\"simply\",\"needed\",\"beginning\",\"father\",\"local\",\"realized\",\"media\",\"death\",\"parents\",\"view\",\"walk\",\"white\",\"market\",\"parts\",\"ocean\",\"economic\",\"eight\",\"powerful\",\"known\",\"week\",\"size\",\"felt\",\"humans\",\"certain\",\"spend\",\"longer\",\"phone\",\"wonderful\",\"cannot\",\"grow\",\"common\",\"center\",\"tried\",\"fish\",\"land\",\"oil\",\"political\",\"interested\",\"deal\",\"red\",\"gone\",\"amount\",\"weeks\",\"spent\",\"opportunity\",\"paper\",\"lost\",\"national\",\"quickly\",\"blue\",\"step\",\"poor\",\"green\",\"buy\",\"growth\",\"wouldn\",\"either\",\"patients\",\"sitting\",\"ability\",\"changes\",\"write\",\"challenge\",\"south\",\"low\",\"growing\",\"friend\",\"field\",\"shows\",\"2\",\"born\",\"rest\",\"climate\",\"40\",\"test\",\"street\",\"surface\",\"incredible\",\"average\",\"physical\",\"morning\",\"scientists\",\"program\",\"pay\",\"value\",\"feeling\",\"hundreds\",\"girl\",\"met\",\"behavior\",\"economy\",\"dna\",\"complex\",\"access\",\"risk\",\"animal\",\"structure\",\"feet\",\"attention\",\"areas\",\"anyone\",\"deep\",\"watch\",\"short\",\"absolutely\",\"speak\",\"brought\",\"die\",\"bottom\",\"numbers\",\"audience\",\"stage\",\"realize\",\"law\",\"images\",\"wrote\",\"understanding\",\"knowledge\",\"literally\",\"books\",\"movement\",\"ground\",\"giving\",\"eat\",\"force\",\"seems\",\"alone\",\"telling\",\"starting\",\"hold\",\"nice\",\"forward\",\"sea\",\"developed\",\"individual\",\"kid\",\"millions\",\"support\",\"miles\",\"tools\",\"running\",\"online\",\"result\",\"act\",\"medical\",\"technologies\",\"north\",\"lab\",\"development\",\"blood\",\"fear\",\"nobody\",\"map\",\"personal\",\"issue\",\"voice\",\"material\",\"key\",\"12\",\"recently\",\"theory\",\"cut\",\"cars\",\"sun\",\"fast\",\"changing\",\"playing\",\"clear\",\"especially\",\"soon\",\"girls\",\"patient\",\"choice\",\"fly\",\"creating\",\"normal\",\"discovered\",\"europe\",\"talked\",\"relationship\",\"gives\",\"generation\",\"dark\",\"type\",\"showed\",\"chance\",\"seem\",\"industry\",\"asking\",\"rate\",\"fun\",\"issues\",\"color\",\"designed\",\"hour\",\"university\",\"innovation\",\"several\",\"class\",\"computers\",\"english\",\"tiny\",\"allow\",\"save\",\"focus\",\"digital\",\"solve\",\"developing\",\"network\",\"film\",\"special\",\"wall\",\"situation\",\"baby\",\"solution\",\"reasons\",\"box\",\"knows\",\"meet\",\"dead\",\"stand\",\"begin\",\"haven\",\"impact\",\"anybody\",\"term\",\"beyond\",\"pictures\",\"please\",\"ice\",\"produce\",\"shape\",\"non\",\"resources\",\"robot\",\"cool\",\"groups\",\"likely\",\"stay\",\"available\",\"truth\",\"rights\",\"major\",\"cause\",\"evidence\",\"obviously\",\"writing\",\"experiment\",\"modern\",\"drug\",\"becomes\",\"incredibly\",\"aren\",\"bigger\",\"guess\",\"nine\",\"product\",\"drugs\",\"lived\",\"involved\",\"perfect\",\"google\",\"month\",\"effect\",\"similar\",\"putting\",\"eye\",\"pick\",\"message\",\"quality\",\"violence\",\"web\",\"evolution\",\"security\",\"office\",\"basic\",\"solar\",\"indeed\",\"general\",\"towards\",\"present\",\"drive\",\"send\",\"listen\",\"worth\",\"revolution\",\"explain\",\"hundred\",\"certainly\",\"died\",\"ready\",\"teach\",\"journey\",\"25\",\"hit\",\"walking\",\"led\",\"approach\",\"international\",\"200\",\"scientific\",\"games\",\"60\",\"potential\",\"crazy\",\"communities\",\"chinese\",\"device\",\"source\",\"camera\",\"rules\",\"sex\",\"carbon\",\"sounds\",\"boy\",\"reach\",\"starts\",\"examples\",\"west\",\"3\",\"success\",\"measure\",\"particularly\",\"software\",\"totally\",\"suddenly\",\"action\",\"college\",\"higher\",\"code\",\"eventually\",\"democracy\",\"among\",\"minute\",\"sit\",\"largest\",\"showing\",\"hospital\",\"notice\",\"period\",\"mass\",\"develop\",\"dream\",\"onto\",\"plants\",\"break\",\"add\",\"memory\",\"everywhere\",\"favorite\",\"11\",\"zero\",\"speed\",\"schools\",\"moved\",\"response\",\"wants\",\"extremely\",\"movie\",\"individuals\",\"table\",\"wait\",\"medicine\",\"follow\",\"anyway\",\"trust\",\"plant\",\"biggest\",\"watching\",\"organization\",\"creative\",\"road\",\"choose\",\"worse\",\"lead\",\"results\",\"500\",\"exciting\",\"grew\",\"materials\",\"jobs\",\"plan\",\"east\",\"poverty\",\"positive\",\"safe\",\"strong\",\"fall\",\"essentially\",\"object\",\"door\",\"son\",\"vision\",\"further\",\"happiness\",\"continue\",\"student\",\"doctor\",\"including\",\"named\",\"role\",\"objects\",\"extraordinary\",\"standing\",\"skin\",\"leaders\",\"usually\",\"african\",\"conversation\",\"projects\",\"allowed\",\"models\",\"supposed\",\"faster\",\"interest\",\"families\",\"police\",\"fight\",\"tree\",\"connected\",\"screen\",\"5\",\"cases\",\"goal\",\"somewhere\",\"finding\",\"buildings\",\"shown\"],\"x1\":{\"__ndarray__\":\"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\",\"dtype\":\"float32\",\"shape\":[1000]},\"x2\":{\"__ndarray__\":\"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\",\"dtype\":\"float32\",\"shape\":[1000]}}},\"id\":\"9e15e5e7-408a-41a2-9511-e109d9750c1f\",\"type\":\"ColumnDataSource\"},{\"attributes\":{},\"id\":\"4cd5570a-3e87-4007-85bb-4cad244c5b27\",\"type\":\"WheelZoomTool\"},{\"attributes\":{},\"id\":\"f2e61c53-4919-4607-9b4c-4e2be1f3f11d\",\"type\":\"ResetTool\"},{\"attributes\":{\"plot\":null,\"text\":\"word2vec T-SNE for most common words\"},\"id\":\"2b0f8ccc-f8ba-475e-9715-594aba60ba80\",\"type\":\"Title\"},{\"attributes\":{},\"id\":\"b302ca3d-f95c-47d2-8ff1-d992b1c53b81\",\"type\":\"SaveTool\"},{\"attributes\":{\"callback\":null},\"id\":\"b12ebf7c-5df1-4ddd-9c33-9c435bbbfbd3\",\"type\":\"DataRange1d\"},{\"attributes\":{\"fill_color\":{\"value\":\"#1f77b4\"},\"line_color\":{\"value\":\"#1f77b4\"},\"size\":{\"units\":\"screen\",\"value\":8},\"x\":{\"field\":\"x1\"},\"y\":{\"field\":\"x2\"}},\"id\":\"942456ce-0506-49d5-9814-225848c999ac\",\"type\":\"Circle\"},{\"attributes\":{\"active_drag\":\"auto\",\"active_inspect\":\"auto\",\"active_scroll\":\"auto\",\"active_tap\":\"auto\",\"tools\":[{\"id\":\"dd2ba123-5246-41a3-89f8-92ea6e06550f\",\"type\":\"PanTool\"},{\"id\":\"4cd5570a-3e87-4007-85bb-4cad244c5b27\",\"type\":\"WheelZoomTool\"},{\"id\":\"f2e61c53-4919-4607-9b4c-4e2be1f3f11d\",\"type\":\"ResetTool\"},{\"id\":\"b302ca3d-f95c-47d2-8ff1-d992b1c53b81\",\"type\":\"SaveTool\"}]},\"id\":\"660a7d55-c280-4f6d-8535-0d24f4588267\",\"type\":\"Toolbar\"},{\"attributes\":{},\"id\":\"8499c642-a5af-4bb1-bca0-c1956b72d75c\",\"type\":\"BasicTickFormatter\"},{\"attributes\":{\"plot\":{\"id\":\"2f8e2285-1038-419b-8c25-30ea8fc3a000\",\"subtype\":\"Figure\",\"type\":\"Plot\"},\"ticker\":{\"id\":\"af18bbdb-c5b7-413d-abb1-3fa9b5a1d05c\",\"type\":\"BasicTicker\"}},\"id\":\"a5029976-5993-4c04-8e04-91c11ff55368\",\"type\":\"Grid\"}],\"root_ids\":[\"2f8e2285-1038-419b-8c25-30ea8fc3a000\"]},\"title\":\"Bokeh Application\",\"version\":\"0.12.10\"}};\n",
       "    var render_items = [{\"docid\":\"f7f34efa-2de7-4507-8af4-3654456725a5\",\"elementid\":\"02dae32e-147b-48ad-be9d-14689f46904d\",\"modelid\":\"2f8e2285-1038-419b-8c25-30ea8fc3a000\"}];\n",
       "\n",
       "    root.Bokeh.embed.embed_items(docs_json, render_items);\n",
       "  }\n",
       "\n",
       "  if (root.Bokeh !== undefined) {\n",
       "    embed_document(root);\n",
       "  } else {\n",
       "    var attempts = 0;\n",
       "    var timer = setInterval(function(root) {\n",
       "      if (root.Bokeh !== undefined) {\n",
       "        embed_document(root);\n",
       "        clearInterval(timer);\n",
       "      }\n",
       "      attempts++;\n",
       "      if (attempts > 100) {\n",
       "        console.log(\"Bokeh: ERROR: Unable to embed document because BokehJS library is missing\")\n",
       "        clearInterval(timer);\n",
       "      }\n",
       "    }, 10, root)\n",
       "  }\n",
       "})(window);"
      ],
      "application/vnd.bokehjs_exec.v0+json": ""
     },
     "metadata": {
      "application/vnd.bokehjs_exec.v0+json": {
       "id": "2f8e2285-1038-419b-8c25-30ea8fc3a000"
      }
     },
     "output_type": "display_data"
    }
   ],
   "source": [
    "p = figure(tools=\"pan,wheel_zoom,reset,save\",\n",
    "           toolbar_location=\"above\",\n",
    "           title=\"word2vec T-SNE for most common words\")\n",
    "\n",
    "source = ColumnDataSource(data=dict(x1=words_top_ted_tsne[:,0],\n",
    "                                    x2=words_top_ted_tsne[:,1],\n",
    "                                    names=words_top_ted))\n",
    "\n",
    "p.scatter(x=\"x1\", y=\"x2\", size=8, source=source)\n",
    "\n",
    "labels = LabelSet(x=\"x1\", y=\"x2\", text=\"names\", y_offset=6,\n",
    "                  text_font_size=\"8pt\", text_color=\"#555555\",\n",
    "                  source=source, text_align='center')\n",
    "p.add_layout(labels)\n",
    "\n",
    "show(p)"
   ]
  },
  {
   "cell_type": "markdown",
   "metadata": {},
   "source": [
    "### Part 5: Wiki Learnt Representations"
   ]
  },
  {
   "cell_type": "markdown",
   "metadata": {},
   "source": [
    "Download dataset"
   ]
  },
  {
   "cell_type": "code",
   "execution_count": 40,
   "metadata": {},
   "outputs": [],
   "source": [
    "if not os.path.isfile('wikitext-103-raw-v1.zip'):\n",
    "    urllib.request.urlretrieve(\"https://s3.amazonaws.com/research.metamind.io/wikitext/wikitext-103-raw-v1.zip\", filename=\"wikitext-103-raw-v1.zip\")"
   ]
  },
  {
   "cell_type": "code",
   "execution_count": 41,
   "metadata": {},
   "outputs": [
    {
     "ename": "BadZipFile",
     "evalue": "File is not a zip file",
     "output_type": "error",
     "traceback": [
      "\u001b[0;31m---------------------------------------------------------------------------\u001b[0m",
      "\u001b[0;31mBadZipFile\u001b[0m                                Traceback (most recent call last)",
      "\u001b[0;32m<ipython-input-41-cfc2cea5c33b>\u001b[0m in \u001b[0;36m<module>\u001b[0;34m()\u001b[0m\n\u001b[0;32m----> 1\u001b[0;31m \u001b[0;32mwith\u001b[0m \u001b[0mzipfile\u001b[0m\u001b[0;34m.\u001b[0m\u001b[0mZipFile\u001b[0m\u001b[0;34m(\u001b[0m\u001b[0;34m'wikitext-103-raw-v1.zip'\u001b[0m\u001b[0;34m,\u001b[0m \u001b[0;34m'r'\u001b[0m\u001b[0;34m)\u001b[0m \u001b[0;32mas\u001b[0m \u001b[0mz\u001b[0m\u001b[0;34m:\u001b[0m\u001b[0;34m\u001b[0m\u001b[0m\n\u001b[0m\u001b[1;32m      2\u001b[0m     \u001b[0minput_text\u001b[0m \u001b[0;34m=\u001b[0m \u001b[0mstr\u001b[0m\u001b[0;34m(\u001b[0m\u001b[0mz\u001b[0m\u001b[0;34m.\u001b[0m\u001b[0mopen\u001b[0m\u001b[0;34m(\u001b[0m\u001b[0;34m'wikitext-103-raw/wiki.train.raw'\u001b[0m\u001b[0;34m,\u001b[0m \u001b[0;34m'r'\u001b[0m\u001b[0;34m)\u001b[0m\u001b[0;34m.\u001b[0m\u001b[0mread\u001b[0m\u001b[0;34m(\u001b[0m\u001b[0;34m)\u001b[0m\u001b[0;34m,\u001b[0m \u001b[0mencoding\u001b[0m\u001b[0;34m=\u001b[0m\u001b[0;34m'utf-8'\u001b[0m\u001b[0;34m)\u001b[0m \u001b[0;31m# Thanks Robert Bastian\u001b[0m\u001b[0;34m\u001b[0m\u001b[0m\n",
      "\u001b[0;32m~/anaconda3/lib/python3.6/zipfile.py\u001b[0m in \u001b[0;36m__init__\u001b[0;34m(self, file, mode, compression, allowZip64)\u001b[0m\n\u001b[1;32m   1106\u001b[0m         \u001b[0;32mtry\u001b[0m\u001b[0;34m:\u001b[0m\u001b[0;34m\u001b[0m\u001b[0m\n\u001b[1;32m   1107\u001b[0m             \u001b[0;32mif\u001b[0m \u001b[0mmode\u001b[0m \u001b[0;34m==\u001b[0m \u001b[0;34m'r'\u001b[0m\u001b[0;34m:\u001b[0m\u001b[0;34m\u001b[0m\u001b[0m\n\u001b[0;32m-> 1108\u001b[0;31m                 \u001b[0mself\u001b[0m\u001b[0;34m.\u001b[0m\u001b[0m_RealGetContents\u001b[0m\u001b[0;34m(\u001b[0m\u001b[0;34m)\u001b[0m\u001b[0;34m\u001b[0m\u001b[0m\n\u001b[0m\u001b[1;32m   1109\u001b[0m             \u001b[0;32melif\u001b[0m \u001b[0mmode\u001b[0m \u001b[0;32min\u001b[0m \u001b[0;34m(\u001b[0m\u001b[0;34m'w'\u001b[0m\u001b[0;34m,\u001b[0m \u001b[0;34m'x'\u001b[0m\u001b[0;34m)\u001b[0m\u001b[0;34m:\u001b[0m\u001b[0;34m\u001b[0m\u001b[0m\n\u001b[1;32m   1110\u001b[0m                 \u001b[0;31m# set the modified flag so central directory gets written\u001b[0m\u001b[0;34m\u001b[0m\u001b[0;34m\u001b[0m\u001b[0m\n",
      "\u001b[0;32m~/anaconda3/lib/python3.6/zipfile.py\u001b[0m in \u001b[0;36m_RealGetContents\u001b[0;34m(self)\u001b[0m\n\u001b[1;32m   1173\u001b[0m             \u001b[0;32mraise\u001b[0m \u001b[0mBadZipFile\u001b[0m\u001b[0;34m(\u001b[0m\u001b[0;34m\"File is not a zip file\"\u001b[0m\u001b[0;34m)\u001b[0m\u001b[0;34m\u001b[0m\u001b[0m\n\u001b[1;32m   1174\u001b[0m         \u001b[0;32mif\u001b[0m \u001b[0;32mnot\u001b[0m \u001b[0mendrec\u001b[0m\u001b[0;34m:\u001b[0m\u001b[0;34m\u001b[0m\u001b[0m\n\u001b[0;32m-> 1175\u001b[0;31m             \u001b[0;32mraise\u001b[0m \u001b[0mBadZipFile\u001b[0m\u001b[0;34m(\u001b[0m\u001b[0;34m\"File is not a zip file\"\u001b[0m\u001b[0;34m)\u001b[0m\u001b[0;34m\u001b[0m\u001b[0m\n\u001b[0m\u001b[1;32m   1176\u001b[0m         \u001b[0;32mif\u001b[0m \u001b[0mself\u001b[0m\u001b[0;34m.\u001b[0m\u001b[0mdebug\u001b[0m \u001b[0;34m>\u001b[0m \u001b[0;36m1\u001b[0m\u001b[0;34m:\u001b[0m\u001b[0;34m\u001b[0m\u001b[0m\n\u001b[1;32m   1177\u001b[0m             \u001b[0mprint\u001b[0m\u001b[0;34m(\u001b[0m\u001b[0mendrec\u001b[0m\u001b[0;34m)\u001b[0m\u001b[0;34m\u001b[0m\u001b[0m\n",
      "\u001b[0;31mBadZipFile\u001b[0m: File is not a zip file"
     ]
    }
   ],
   "source": [
    "with zipfile.ZipFile('wikitext-103-raw-v1.zip', 'r') as z:\n",
    "    input_text = str(z.open('wikitext-103-raw/wiki.train.raw', 'r').read(), encoding='utf-8') # Thanks Robert Bastian"
   ]
  },
  {
   "cell_type": "markdown",
   "metadata": {},
   "source": [
    "Preprocess sentences (note that it's important to remove small sentences for performance)"
   ]
  },
  {
   "cell_type": "code",
   "execution_count": null,
   "metadata": {
    "collapsed": true
   },
   "outputs": [],
   "source": [
    "sentences_wiki = []\n",
    "for line in input_text.split('\\n'):\n",
    "    s = [x for x in line.split('.') if x and len(x.split()) >= 5]\n",
    "    sentences_wiki.extend(s)\n",
    "    \n",
    "for s_i in range(len(sentences_wiki)):\n",
    "    sentences_wiki[s_i] = re.sub(\"[^a-z]\", \" \", sentences_wiki[s_i].lower())\n",
    "    sentences_wiki[s_i] = re.sub(r'\\([^)]*\\)', '', sentences_wiki[s_i])\n",
    "del input_text"
   ]
  },
  {
   "cell_type": "code",
   "execution_count": null,
   "metadata": {
    "collapsed": true
   },
   "outputs": [],
   "source": [
    "# sample 1/5 of the data\n",
    "shuffle(sentences_wiki)\n",
    "print(len(sentences_wiki))\n",
    "sentences_wiki = sentences_wiki[:int(len(sentences_wiki)/5)]\n",
    "print(len(sentences_wiki))"
   ]
  },
  {
   "cell_type": "markdown",
   "metadata": {},
   "source": [
    "Now, repeat all the same steps that you performed above. You should be able to reuse essentially all the code."
   ]
  },
  {
   "cell_type": "code",
   "execution_count": null,
   "metadata": {
    "collapsed": true
   },
   "outputs": [],
   "source": [
    "# ..."
   ]
  },
  {
   "cell_type": "markdown",
   "metadata": {},
   "source": [
    "#### t-SNE visualization"
   ]
  },
  {
   "cell_type": "code",
   "execution_count": null,
   "metadata": {
    "collapsed": true
   },
   "outputs": [],
   "source": [
    "# This assumes words_top_wiki is a list of strings, the top 1000 words\n",
    "words_top_vec_wiki = model_wiki[words_top_wiki]\n",
    "\n",
    "tsne = TSNE(n_components=2, random_state=0)\n",
    "words_top_wiki_tsne = tsne.fit_transform(words_top_vec_wiki)"
   ]
  },
  {
   "cell_type": "code",
   "execution_count": null,
   "metadata": {
    "collapsed": true
   },
   "outputs": [],
   "source": [
    "p = figure(tools=\"pan,wheel_zoom,reset,save\",\n",
    "           toolbar_location=\"above\",\n",
    "           title=\"word2vec T-SNE for most common words\")\n",
    "\n",
    "source = ColumnDataSource(data=dict(x1=words_top_wiki_tsne[:,0],\n",
    "                                    x2=words_top_wiki_tsne[:,1],\n",
    "                                    names=words_top_wiki))\n",
    "\n",
    "p.scatter(x=\"x1\", y=\"x2\", size=8, source=source)\n",
    "\n",
    "labels = LabelSet(x=\"x1\", y=\"x2\", text=\"names\", y_offset=6,\n",
    "                  text_font_size=\"8pt\", text_color=\"#555555\",\n",
    "                  source=source, text_align='center')\n",
    "p.add_layout(labels)\n",
    "\n",
    "show(p)"
   ]
  }
 ],
 "metadata": {
  "anaconda-cloud": {},
  "kernelspec": {
   "display_name": "Python 3",
   "language": "python",
   "name": "python3"
  },
  "language_info": {
   "codemirror_mode": {
    "name": "ipython",
    "version": 3
   },
   "file_extension": ".py",
   "mimetype": "text/x-python",
   "name": "python",
   "nbconvert_exporter": "python",
   "pygments_lexer": "ipython3",
   "version": "3.6.3"
  }
 },
 "nbformat": 4,
 "nbformat_minor": 1
}
